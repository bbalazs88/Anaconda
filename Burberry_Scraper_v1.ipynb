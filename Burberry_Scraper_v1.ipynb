{
 "cells": [
  {
   "cell_type": "markdown",
   "metadata": {},
   "source": [
    "## Web scraper for burberry.com\n",
    "#### My goal was to get all the products and prices from burberry's page. First I had to connect to the page, extract the links, and for each link, extract the needed information. After that I thought it's a great opportunity to play with Azure, so I set up an account, and uploaded the data to there. I also tried tqdm package, which is a progress bar, and it's a great help for time consuming tasks like this."
   ]
  },
  {
   "cell_type": "code",
   "execution_count": 1,
   "metadata": {},
   "outputs": [],
   "source": [
    "import pandas as pd\n",
    "import requests\n",
    "import os\n",
    "from bs4 import BeautifulSoup\n",
    "import time\n",
    "import pyodbc\n",
    "from tqdm import tqdm_notebook as tqdm # tqdm_notebook for Jupyter"
   ]
  },
  {
   "cell_type": "markdown",
   "metadata": {},
   "source": [
    "#### First we need a connection to the home page, and extract all the links from it. The soup.find_all('a') is responsible for them."
   ]
  },
  {
   "cell_type": "code",
   "execution_count": 2,
   "metadata": {},
   "outputs": [],
   "source": [
    "html = requests.get(\"https://hu.burberry.com/\")\n",
    "html = html.content\n",
    "soup = BeautifulSoup(html, 'html.parser')"
   ]
  },
  {
   "cell_type": "code",
   "execution_count": 3,
   "metadata": {},
   "outputs": [
    {
     "data": {
      "text/plain": [
       "['/',\n",
       " '/the-monogram-universe/',\n",
       " '/women/',\n",
       " '/men/',\n",
       " '/children/',\n",
       " '/bags/',\n",
       " '/the-trench-coat/',\n",
       " '/search/?q',\n",
       " '/burberry/myburberry/overview/myOverview.jsp',\n",
       " '/checkout/index.jsp?page=SB']"
      ]
     },
     "execution_count": 3,
     "metadata": {},
     "output_type": "execute_result"
    }
   ],
   "source": [
    "pages = []\n",
    "\n",
    "for link in soup.find_all('a'):\n",
    "    pages.append(link.get('href'))\n",
    "\n",
    "pages[:10]"
   ]
  },
  {
   "cell_type": "markdown",
   "metadata": {},
   "source": [
    "#### I only need the women, men, and make-up products (in this case the subpages), so I'm making a search for them, and store them in a list called goal."
   ]
  },
  {
   "cell_type": "code",
   "execution_count": 4,
   "metadata": {},
   "outputs": [
    {
     "data": {
      "text/plain": [
       "['/customer-service/payment/',\n",
       " '/legal-cookies/accessibility-statement/',\n",
       " '/legal-cookies/transparency-in-the-supply-chainmodern-slavery-statements/',\n",
       " '/make-up-eyes/',\n",
       " '/make-up-face/']"
      ]
     },
     "execution_count": 4,
     "metadata": {},
     "output_type": "execute_result"
    }
   ],
   "source": [
    "search_for = ['/women', '/men/', '/make-up/']\n",
    "goal = []\n",
    "\n",
    "for i in pages:\n",
    "    if i is None:\n",
    "        continue\n",
    "    elif ('make-up' in i or 'women' in i or 'men' in i) and i not in goal:\n",
    "        goal.append(i)\n",
    "        \n",
    "goal.sort()\n",
    "goal[:5]"
   ]
  },
  {
   "cell_type": "code",
   "execution_count": 5,
   "metadata": {},
   "outputs": [
    {
     "name": "stdout",
     "output_type": "stream",
     "text": [
      "https://hu.burberry.com/mens-umbrellas/\n"
     ]
    }
   ],
   "source": [
    "print('https://hu.burberry.com' + str(goal[53]))"
   ]
  },
  {
   "cell_type": "code",
   "execution_count": 6,
   "metadata": {},
   "outputs": [
    {
     "data": {
      "text/plain": [
       "['https://hu.burberry.com/customer-service/payment/',\n",
       " 'https://hu.burberry.com/legal-cookies/accessibility-statement/',\n",
       " 'https://hu.burberry.com/legal-cookies/transparency-in-the-supply-chainmodern-slavery-statements/',\n",
       " 'https://hu.burberry.com/make-up-eyes/',\n",
       " 'https://hu.burberry.com/make-up-face/']"
      ]
     },
     "execution_count": 6,
     "metadata": {},
     "output_type": "execute_result"
    }
   ],
   "source": [
    "subpages = []\n",
    "\n",
    "for i in goal:\n",
    "    subpages.append('https://hu.burberry.com' + str(i))\n",
    "    \n",
    "subpages[:5]"
   ]
  },
  {
   "cell_type": "markdown",
   "metadata": {},
   "source": [
    "#### This is the part where I iterate through the subpages, and extract the title and the price of the products. I'm using tqdm, to see the progress, because this takes a few minute, and it's more fun than printing out the actual subpage."
   ]
  },
  {
   "cell_type": "code",
   "execution_count": 7,
   "metadata": {},
   "outputs": [
    {
     "data": {
      "application/vnd.jupyter.widget-view+json": {
       "model_id": "25a5778bb2aa4d74a28dfbfcdb66c9c8",
       "version_major": 2,
       "version_minor": 0
      },
      "text/plain": [
       "HBox(children=(IntProgress(value=0, max=105), HTML(value='')))"
      ]
     },
     "metadata": {},
     "output_type": "display_data"
    },
    {
     "name": "stdout",
     "output_type": "stream",
     "text": [
      "\n"
     ]
    }
   ],
   "source": [
    "full_list = []\n",
    "\n",
    "for page in tqdm(subpages):\n",
    "    html = requests.get(page)\n",
    "    html = html.content\n",
    "    soup = BeautifulSoup(html, 'html.parser')\n",
    "    \n",
    "    for i,j in zip(soup.find_all('div', {'class' : 'product-card-title'}), \n",
    "                   soup.find_all('div', {'class' : 'product-card-price'})):\n",
    "        if (i and j) not in full_list: \n",
    "            j = j.getText(strip=True) # Without stripping it would be filled with '\\t\\n\\n\\n'\n",
    "            j = j[2:] # The prices extracted in Ft10,000.0 format, which I convert to 10000.0\n",
    "            j = j.replace(',', '')\n",
    "            full_list.append([i.getText(strip=True), j])\n",
    "        \n",
    "    time.sleep(0.4) # A bit of sleep, not to flood the site.\n",
    "    # print(page)"
   ]
  },
  {
   "cell_type": "markdown",
   "metadata": {},
   "source": [
    "#### I'm making the burberry_df DataFrame, to load the full_list into it. Dump the few empty rows, and make Price an integer. Sorting to ascending on Price, and resetting the index."
   ]
  },
  {
   "cell_type": "code",
   "execution_count": 8,
   "metadata": {},
   "outputs": [],
   "source": [
    "burberry_df = pd.DataFrame(full_list, columns = ['Product' , 'Price']) \n",
    "burberry_df = burberry_df[burberry_df['Product'] != ''] #Dobjuk az üres Product sorokat.\n",
    "burberry_df['Price'] = pd.to_numeric(burberry_df['Price'], downcast='signed') # Tizedesjegyes float-ból csinál int-et.\n",
    "burberry_df.sort_values(by='Price', inplace=True)\n",
    "#burberry_df.index.name = 'ID'\n",
    "#burberry_df.reset_index(inplace=True, drop=True)"
   ]
  },
  {
   "cell_type": "code",
   "execution_count": 9,
   "metadata": {},
   "outputs": [
    {
     "data": {
      "text/html": [
       "<div>\n",
       "<style scoped>\n",
       "    .dataframe tbody tr th:only-of-type {\n",
       "        vertical-align: middle;\n",
       "    }\n",
       "\n",
       "    .dataframe tbody tr th {\n",
       "        vertical-align: top;\n",
       "    }\n",
       "\n",
       "    .dataframe thead th {\n",
       "        text-align: right;\n",
       "    }\n",
       "</style>\n",
       "<table border=\"1\" class=\"dataframe\">\n",
       "  <thead>\n",
       "    <tr style=\"text-align: right;\">\n",
       "      <th></th>\n",
       "      <th>Product</th>\n",
       "      <th>Price</th>\n",
       "    </tr>\n",
       "  </thead>\n",
       "  <tbody>\n",
       "    <tr>\n",
       "      <th>0</th>\n",
       "      <td>Burberry Kisses Lip Lacquer – Military Red No.41</td>\n",
       "      <td>1100</td>\n",
       "    </tr>\n",
       "    <tr>\n",
       "      <th>1</th>\n",
       "      <td>Burberry Kisses Lip Lacquer – Nude No.03</td>\n",
       "      <td>1100</td>\n",
       "    </tr>\n",
       "    <tr>\n",
       "      <th>2</th>\n",
       "      <td>Burberry Kisses Lip Lacquer – Oxblood No.53</td>\n",
       "      <td>1100</td>\n",
       "    </tr>\n",
       "    <tr>\n",
       "      <th>3</th>\n",
       "      <td>Burberry Kisses Lip Lacquer – Creamy Rose No.07</td>\n",
       "      <td>1100</td>\n",
       "    </tr>\n",
       "    <tr>\n",
       "      <th>51</th>\n",
       "      <td>Nail Polish - Poppy Black No.299</td>\n",
       "      <td>6000</td>\n",
       "    </tr>\n",
       "    <tr>\n",
       "      <th>50</th>\n",
       "      <td>Nail Protect Base &amp; Top Coat</td>\n",
       "      <td>6000</td>\n",
       "    </tr>\n",
       "    <tr>\n",
       "      <th>49</th>\n",
       "      <td>Nail Polish - Ash Rose No.103</td>\n",
       "      <td>6000</td>\n",
       "    </tr>\n",
       "    <tr>\n",
       "      <th>48</th>\n",
       "      <td>Nail Polish - Dusky Mauve No.405</td>\n",
       "      <td>6000</td>\n",
       "    </tr>\n",
       "    <tr>\n",
       "      <th>47</th>\n",
       "      <td>Nail Polish - Teal Blue No.427</td>\n",
       "      <td>6000</td>\n",
       "    </tr>\n",
       "    <tr>\n",
       "      <th>46</th>\n",
       "      <td>Nail Polish - Military Red No.300</td>\n",
       "      <td>6000</td>\n",
       "    </tr>\n",
       "  </tbody>\n",
       "</table>\n",
       "</div>"
      ],
      "text/plain": [
       "                                             Product  Price\n",
       "0   Burberry Kisses Lip Lacquer – Military Red No.41   1100\n",
       "1           Burberry Kisses Lip Lacquer – Nude No.03   1100\n",
       "2        Burberry Kisses Lip Lacquer – Oxblood No.53   1100\n",
       "3    Burberry Kisses Lip Lacquer – Creamy Rose No.07   1100\n",
       "51                  Nail Polish - Poppy Black No.299   6000\n",
       "50                      Nail Protect Base & Top Coat   6000\n",
       "49                     Nail Polish - Ash Rose No.103   6000\n",
       "48                  Nail Polish - Dusky Mauve No.405   6000\n",
       "47                    Nail Polish - Teal Blue No.427   6000\n",
       "46                 Nail Polish - Military Red No.300   6000"
      ]
     },
     "execution_count": 9,
     "metadata": {},
     "output_type": "execute_result"
    }
   ],
   "source": [
    "burberry_df.head(10)"
   ]
  },
  {
   "cell_type": "code",
   "execution_count": 10,
   "metadata": {},
   "outputs": [
    {
     "name": "stdout",
     "output_type": "stream",
     "text": [
      "<class 'pandas.core.frame.DataFrame'>\n",
      "Int64Index: 3726 entries, 0 to 2525\n",
      "Data columns (total 2 columns):\n",
      "Product    3726 non-null object\n",
      "Price      3726 non-null int32\n",
      "dtypes: int32(1), object(1)\n",
      "memory usage: 72.8+ KB\n"
     ]
    }
   ],
   "source": [
    "burberry_df.info()"
   ]
  },
  {
   "cell_type": "code",
   "execution_count": 11,
   "metadata": {},
   "outputs": [
    {
     "data": {
      "text/html": [
       "<div>\n",
       "<style scoped>\n",
       "    .dataframe tbody tr th:only-of-type {\n",
       "        vertical-align: middle;\n",
       "    }\n",
       "\n",
       "    .dataframe tbody tr th {\n",
       "        vertical-align: top;\n",
       "    }\n",
       "\n",
       "    .dataframe thead th {\n",
       "        text-align: right;\n",
       "    }\n",
       "</style>\n",
       "<table border=\"1\" class=\"dataframe\">\n",
       "  <thead>\n",
       "    <tr style=\"text-align: right;\">\n",
       "      <th></th>\n",
       "      <th>Product</th>\n",
       "      <th>Price</th>\n",
       "    </tr>\n",
       "  </thead>\n",
       "  <tbody>\n",
       "    <tr>\n",
       "      <th>21</th>\n",
       "      <td>Bold Lash Mascara – Ebony No.01</td>\n",
       "      <td>10500</td>\n",
       "    </tr>\n",
       "    <tr>\n",
       "      <th>39</th>\n",
       "      <td>Fresh Glow Highlighting Luminous Pen – Nude Ra...</td>\n",
       "      <td>10500</td>\n",
       "    </tr>\n",
       "    <tr>\n",
       "      <th>9</th>\n",
       "      <td>Liquid Lip Velvet – Black Cherry No.57</td>\n",
       "      <td>10500</td>\n",
       "    </tr>\n",
       "    <tr>\n",
       "      <th>753</th>\n",
       "      <td>Mr. Burberry Body Wash 250ml</td>\n",
       "      <td>10500</td>\n",
       "    </tr>\n",
       "    <tr>\n",
       "      <th>10</th>\n",
       "      <td>Liquid Lip Velvet – Fawn Rose No.09</td>\n",
       "      <td>10500</td>\n",
       "    </tr>\n",
       "    <tr>\n",
       "      <th>11</th>\n",
       "      <td>Lip Velvet Rosewood No.421</td>\n",
       "      <td>10500</td>\n",
       "    </tr>\n",
       "    <tr>\n",
       "      <th>826</th>\n",
       "      <td>Mr. Burberry Body Wash 250ml</td>\n",
       "      <td>10500</td>\n",
       "    </tr>\n",
       "    <tr>\n",
       "      <th>22</th>\n",
       "      <td>Bold Lash Mascara – Chestnut Brown No.02</td>\n",
       "      <td>10500</td>\n",
       "    </tr>\n",
       "    <tr>\n",
       "      <th>28</th>\n",
       "      <td>Full Brows - Barley No.01</td>\n",
       "      <td>10500</td>\n",
       "    </tr>\n",
       "    <tr>\n",
       "      <th>19</th>\n",
       "      <td>Burberry Cat Lashes – Ultra Black No.01</td>\n",
       "      <td>10500</td>\n",
       "    </tr>\n",
       "  </tbody>\n",
       "</table>\n",
       "</div>"
      ],
      "text/plain": [
       "                                               Product  Price\n",
       "21                     Bold Lash Mascara – Ebony No.01  10500\n",
       "39   Fresh Glow Highlighting Luminous Pen – Nude Ra...  10500\n",
       "9               Liquid Lip Velvet – Black Cherry No.57  10500\n",
       "753                       Mr. Burberry Body Wash 250ml  10500\n",
       "10                 Liquid Lip Velvet – Fawn Rose No.09  10500\n",
       "11                          Lip Velvet Rosewood No.421  10500\n",
       "826                       Mr. Burberry Body Wash 250ml  10500\n",
       "22            Bold Lash Mascara – Chestnut Brown No.02  10500\n",
       "28                           Full Brows - Barley No.01  10500\n",
       "19             Burberry Cat Lashes – Ultra Black No.01  10500"
      ]
     },
     "execution_count": 11,
     "metadata": {},
     "output_type": "execute_result"
    }
   ],
   "source": [
    "burberry_df.loc[(burberry_df['Price'] > 10000) & (burberry_df['Price'] < 30000)].head(10)"
   ]
  },
  {
   "cell_type": "markdown",
   "metadata": {},
   "source": [
    "#### Create a csv file for further use. With index=False we get rid of the 'Unnamed: 0' column."
   ]
  },
  {
   "cell_type": "code",
   "execution_count": 12,
   "metadata": {},
   "outputs": [],
   "source": [
    "burberry_df.to_csv('burberry_df.csv', encoding='utf-8', index=False)"
   ]
  },
  {
   "cell_type": "markdown",
   "metadata": {},
   "source": [
    "## Write the DataFrame to Azure SQL\n",
    "\n",
    "#### I'd like to try how Azure SQL Database works, so I registered an account. For the connection I had to clear my IP address for it, but after that, it was easy, because I get the entire connection string with one click."
   ]
  },
  {
   "cell_type": "code",
   "execution_count": 13,
   "metadata": {},
   "outputs": [],
   "source": [
    "#################\n",
    "### PASSWORD ###\n",
    "################\n",
    "\n",
    "conn = pyodbc.connect(\"\"\"Driver={ODBC Driver 13 for SQL Server};\n",
    "            Server=tcp:baloghbalazs.database.windows.net,1433;\n",
    "            Database=Burberry;\n",
    "            Uid=baloghbalazs@baloghbalazs;\n",
    "            Pwd=dOHerty88; \n",
    "            Encrypt=yes;\n",
    "            TrustServerCertificate=no;\n",
    "            Connection Timeout=30;\"\"\")"
   ]
  },
  {
   "cell_type": "code",
   "execution_count": 14,
   "metadata": {},
   "outputs": [
    {
     "data": {
      "text/plain": [
       "[(1, 'Test', 2000.0)]"
      ]
     },
     "execution_count": 14,
     "metadata": {},
     "output_type": "execute_result"
    }
   ],
   "source": [
    "cursor = conn.cursor()\n",
    "cursor.execute('SELECT TOP 10 * FROM Products_Prices').fetchall()"
   ]
  },
  {
   "cell_type": "markdown",
   "metadata": {},
   "source": [
    "#### Testing with inserting a Test_2 row. It works fine."
   ]
  },
  {
   "cell_type": "code",
   "execution_count": 15,
   "metadata": {},
   "outputs": [
    {
     "data": {
      "text/plain": [
       "[(1, 'Test', 2000.0), (23090, 'Test_2', 2000.0)]"
      ]
     },
     "execution_count": 15,
     "metadata": {},
     "output_type": "execute_result"
    }
   ],
   "source": [
    "cursor.execute(\"\"\"DELETE FROM Products_Prices WHERE Product = 'Test_2'\"\"\")\n",
    "\n",
    "cursor.execute(\"\"\"INSERT INTO Products_Prices \n",
    "                  VALUES ('Test_2', 2000)\"\"\")\n",
    "\n",
    "cursor.execute('SELECT * FROM Products_Prices').fetchall()"
   ]
  },
  {
   "cell_type": "markdown",
   "metadata": {},
   "source": [
    "#### I need tqdm again, to see the progress of the ~3000 rows inserting to the table. I use cursor.execute, not .executemany, because if I want to use tqdm, and inserting together, I have to go row-by-row (.tolist()[i]). Before that, I empty the table."
   ]
  },
  {
   "cell_type": "code",
   "execution_count": 16,
   "metadata": {},
   "outputs": [
    {
     "data": {
      "application/vnd.jupyter.widget-view+json": {
       "model_id": "794ed1a716f448a29865aa428aad0e06",
       "version_major": 2,
       "version_minor": 0
      },
      "text/plain": [
       "HBox(children=(IntProgress(value=0, max=3726), HTML(value='')))"
      ]
     },
     "metadata": {},
     "output_type": "display_data"
    },
    {
     "name": "stdout",
     "output_type": "stream",
     "text": [
      "\n"
     ]
    }
   ],
   "source": [
    "cursor.execute(\"\"\"DELETE FROM Products_Prices WHERE ID > 1\"\"\")\n",
    "\n",
    "for i in tqdm(range(burberry_df.shape[0])):\n",
    "    cursor.execute(\"\"\"INSERT INTO Products_Prices(Product, Price) VALUES(?,?)\"\"\", burberry_df.values.tolist()[i])"
   ]
  },
  {
   "cell_type": "markdown",
   "metadata": {},
   "source": [
    "#### Let's see, if it worked."
   ]
  },
  {
   "cell_type": "code",
   "execution_count": 17,
   "metadata": {},
   "outputs": [
    {
     "data": {
      "text/plain": [
       "[(1, 'Test', 2000.0),\n",
       " (23091, 'Burberry Kisses Lip Lacquer – Military Red No.41', 1100.0),\n",
       " (23092, 'Burberry Kisses Lip Lacquer – Nude No.03', 1100.0),\n",
       " (23093, 'Burberry Kisses Lip Lacquer – Oxblood No.53', 1100.0),\n",
       " (23094, 'Burberry Kisses Lip Lacquer – Creamy Rose No.07', 1100.0),\n",
       " (23095, 'Nail Polish - Poppy Black No.299', 6000.0),\n",
       " (23096, 'Nail Protect Base & Top Coat', 6000.0),\n",
       " (23097, 'Nail Polish - Ash Rose No.103', 6000.0),\n",
       " (23098, 'Nail Polish - Dusky Mauve No.405', 6000.0),\n",
       " (23099, 'Nail Polish - Teal Blue No.427', 6000.0)]"
      ]
     },
     "execution_count": 17,
     "metadata": {},
     "output_type": "execute_result"
    }
   ],
   "source": [
    "cursor.execute('SELECT TOP 10 * FROM Products_Prices').fetchall()"
   ]
  },
  {
   "cell_type": "markdown",
   "metadata": {},
   "source": [
    "#### TODO: Make the inserting faster."
   ]
  }
 ],
 "metadata": {
  "kernelspec": {
   "display_name": "Python 3",
   "language": "python",
   "name": "python3"
  },
  "language_info": {
   "codemirror_mode": {
    "name": "ipython",
    "version": 3
   },
   "file_extension": ".py",
   "mimetype": "text/x-python",
   "name": "python",
   "nbconvert_exporter": "python",
   "pygments_lexer": "ipython3",
   "version": "3.7.3"
  }
 },
 "nbformat": 4,
 "nbformat_minor": 2
}
