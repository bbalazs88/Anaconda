{
 "cells": [
  {
   "cell_type": "code",
   "execution_count": 1,
   "metadata": {},
   "outputs": [],
   "source": [
    "# https://arato.inf.unideb.hu/szathmary.laszlo/pmwiki/index.php?n=Acad.Py2019febr\n",
    "# Python alapok Szathmáry László tananyagai alapján"
   ]
  },
  {
   "cell_type": "code",
   "execution_count": 2,
   "metadata": {},
   "outputs": [
    {
     "name": "stdout",
     "output_type": "stream",
     "text": [
      "Basic computations: \n",
      "\n",
      "8 / 4 =  2.0\n",
      "8 % 7 = 1\n",
      "10 + 10 = 20\n"
     ]
    }
   ],
   "source": [
    "# Alap számolások kiiratása különböző módokon:\n",
    "\n",
    "print(\"Basic computations: \\n\")\n",
    "\n",
    "print(\"8 / 4 = \", 8 / 4)\n",
    "print(\"8 % 7 = {}\".format(8%7) )\n",
    "print(\"10 + 10 = {}\".format(10+10))"
   ]
  },
  {
   "cell_type": "code",
   "execution_count": 3,
   "metadata": {},
   "outputs": [
    {
     "data": {
      "text/plain": [
       "2.0"
      ]
     },
     "execution_count": 3,
     "metadata": {},
     "output_type": "execute_result"
    }
   ],
   "source": [
    "# Jupyter notebookban nem kell a print, ha csak egy dolgot iratunk ki.\n",
    "\n",
    "8 / 4"
   ]
  },
  {
   "cell_type": "code",
   "execution_count": 4,
   "metadata": {},
   "outputs": [
    {
     "name": "stdout",
     "output_type": "stream",
     "text": [
      "15\n",
      "0\n",
      "0\n",
      "16\n",
      "1157.6250000000002\n"
     ]
    }
   ],
   "source": [
    "# Szorzás, maradékos osztás, hatványozás:\n",
    "\n",
    "print(3 * 5)\n",
    "print(20 % 10)\n",
    "print(20 % 2)\n",
    "print(4 ** 2)\n",
    "\n",
    "# Mennyit ér 1000 dollár 3 év múlva?\n",
    "print(1000 * 1.05 ** 3)"
   ]
  },
  {
   "cell_type": "code",
   "execution_count": 5,
   "metadata": {},
   "outputs": [
    {
     "name": "stdout",
     "output_type": "stream",
     "text": [
      "<class 'float'>\n"
     ]
    }
   ],
   "source": [
    "# Változó deklarálása, típusa.\n",
    "\n",
    "a = 3.345\n",
    "\n",
    "print(type(a))"
   ]
  },
  {
   "cell_type": "code",
   "execution_count": 6,
   "metadata": {},
   "outputs": [
    {
     "name": "stdout",
     "output_type": "stream",
     "text": [
      "<class 'int'>\n",
      "3\n"
     ]
    }
   ],
   "source": [
    "b = int(a)\n",
    "\n",
    "print(type(b))\n",
    "print(b)"
   ]
  },
  {
   "cell_type": "code",
   "execution_count": 7,
   "metadata": {},
   "outputs": [
    {
     "name": "stdout",
     "output_type": "stream",
     "text": [
      "<class 'str'>\n",
      "3.345\n"
     ]
    }
   ],
   "source": [
    "c = str(a)\n",
    "\n",
    "print(type(c))\n",
    "print(c)"
   ]
  },
  {
   "cell_type": "code",
   "execution_count": 8,
   "metadata": {},
   "outputs": [
    {
     "name": "stdout",
     "output_type": "stream",
     "text": [
      "[11.25, 18.0, 20.0]\n",
      "11.25\n",
      "[11.25, 18.0, 20.0, 11.25, 18.0, 20.0]\n"
     ]
    }
   ],
   "source": [
    "pear = 11.25\n",
    "apple = 18.0\n",
    "apricot = 20.0\n",
    "\n",
    "# List\n",
    "fruits = [pear, apple, apricot]\n",
    "\n",
    "print(fruits)\n",
    "\n",
    "print(fruits[0])\n",
    "\n",
    "print(fruits * 2)"
   ]
  },
  {
   "cell_type": "code",
   "execution_count": 9,
   "metadata": {},
   "outputs": [
    {
     "name": "stdout",
     "output_type": "stream",
     "text": [
      "Pear: 11.25 Apple: 18.0 Apricot 20.0\n"
     ]
    }
   ],
   "source": [
    "print(\"Pear:\", pear, \"Apple:\", apple, \"Apricot\", apricot)"
   ]
  },
  {
   "cell_type": "code",
   "execution_count": 10,
   "metadata": {},
   "outputs": [
    {
     "name": "stdout",
     "output_type": "stream",
     "text": [
      "[11.25, 18.0, 20.0, [10, 20]]\n"
     ]
    }
   ],
   "source": [
    "# List hozzáadása meglévő list-hez.\n",
    "\n",
    "chocolate = [10, 20]\n",
    "\n",
    "food = [pear, apple, apricot, chocolate]\n",
    "\n",
    "print(food)"
   ]
  },
  {
   "cell_type": "code",
   "execution_count": 11,
   "metadata": {},
   "outputs": [
    {
     "name": "stdout",
     "output_type": "stream",
     "text": [
      "20.0\n",
      "[10, 20]\n",
      "A food lista elemeinek száma: 4\n"
     ]
    }
   ],
   "source": [
    "# Hozzáférünk a lista bármelyik eleméhez, 0-tól kezdődik a számolás.\n",
    "\n",
    "print(food[2])\n",
    "\n",
    "print(food[-1])\n",
    "\n",
    "# print(food[4]) # Nincs negyedik elem.\n",
    "\n",
    "print(\"A food lista elemeinek száma:\", len(food))"
   ]
  },
  {
   "cell_type": "code",
   "execution_count": 12,
   "metadata": {},
   "outputs": [
    {
     "data": {
      "text/plain": [
       "[0, 1, 2, 3, 4, 5, 6, 7, 8, 9]"
      ]
     },
     "execution_count": 12,
     "metadata": {},
     "output_type": "execute_result"
    }
   ],
   "source": [
    "# Üres lista készítése, és feltöltése számokkal:\n",
    "\n",
    "new_list = []\n",
    "\n",
    "for i in range(10):\n",
    "    new_list.append(i)\n",
    "    \n",
    "new_list"
   ]
  },
  {
   "cell_type": "code",
   "execution_count": 13,
   "metadata": {},
   "outputs": [
    {
     "name": "stdout",
     "output_type": "stream",
     "text": [
      "Andy\n",
      "John\n",
      "Peter\n",
      "Frank\n"
     ]
    }
   ],
   "source": [
    "names = ['Andy', 'John', 'Peter', 'Frank']\n",
    "\n",
    "for i in names:\n",
    "    print(i)"
   ]
  },
  {
   "cell_type": "code",
   "execution_count": 14,
   "metadata": {},
   "outputs": [
    {
     "name": "stdout",
     "output_type": "stream",
     "text": [
      "{'Andy': 20, 'John': 25, 'Peter': 21, 'Frank': 18}\n",
      "dict_keys(['Andy', 'John', 'Peter', 'Frank'])\n",
      "dict_values([20, 25, 21, 18])\n"
     ]
    }
   ],
   "source": [
    "# Dictionary:\n",
    "\n",
    "dict = {'Andy' : 20, 'John' : 25, 'Peter' : 21, 'Frank' : 18}\n",
    "\n",
    "print(dict)\n",
    "print(dict.keys())\n",
    "print(dict.values())"
   ]
  },
  {
   "cell_type": "code",
   "execution_count": 15,
   "metadata": {},
   "outputs": [
    {
     "name": "stdout",
     "output_type": "stream",
     "text": [
      "Andy\n",
      "John\n",
      "Peter\n",
      "Frank\n",
      "\n",
      "\n",
      "20\n",
      "25\n",
      "21\n",
      "18\n",
      "\n",
      "\n",
      "Andy 20\n",
      "John 25\n",
      "Peter 21\n",
      "Frank 18\n"
     ]
    }
   ],
   "source": [
    "for i in dict:\n",
    "    print(i)\n",
    "\n",
    "print('\\n')\n",
    "\n",
    "for i in dict.values():\n",
    "    print(i)\n",
    "    \n",
    "print('\\n')\n",
    "\n",
    "for i, j in dict.items():\n",
    "    print(i, j)"
   ]
  },
  {
   "cell_type": "code",
   "execution_count": 16,
   "metadata": {},
   "outputs": [
    {
     "data": {
      "text/plain": [
       "20"
      ]
     },
     "execution_count": 16,
     "metadata": {},
     "output_type": "execute_result"
    }
   ],
   "source": [
    "dict['Andy']"
   ]
  },
  {
   "cell_type": "code",
   "execution_count": 17,
   "metadata": {},
   "outputs": [
    {
     "name": "stdout",
     "output_type": "stream",
     "text": [
      "\n"
     ]
    }
   ],
   "source": [
    "# Fájl megnyitása, és beleírás, az első könyvtár beimportálása:\n",
    "\n",
    "import os\n",
    "\n",
    "os.chdir(\"c:\\\\DatasRev\\\\\")\n",
    "\n",
    "with open(\"new_text.txt\", \"r+\") as file:\n",
    "    file.write('Hello world!')\n",
    "    print(file.read())\n",
    "    "
   ]
  },
  {
   "cell_type": "code",
   "execution_count": 18,
   "metadata": {},
   "outputs": [
    {
     "name": "stdout",
     "output_type": "stream",
     "text": [
      "City: Budapest\n",
      "The temperature in Budapest is 24.04 Celsius.\n"
     ]
    }
   ],
   "source": [
    "# API hívás, openweathermap, tetszőleges város hőmérséklete Celsiusban.\n",
    "\n",
    "import requests\n",
    "import os\n",
    "from time import sleep\n",
    "\n",
    "city = input(\"City: \")\n",
    "url = \"http://api.openweathermap.org/data/2.5/weather?q={}&appid=82e1564848ec61955fbaaf13eecd0613&units=metric\".format(city)\n",
    "\n",
    "try:\n",
    "    response = requests.get(url)\n",
    "    data = response.json()\n",
    "    temp = data[\"main\"][\"temp\"]\n",
    "    sleep(0.8)\n",
    "    # print(response)  # 200-as kod, ellenorzesnek, hogy jo e a kapcsolat.\n",
    "\n",
    "    print(\"The temperature in {} is {} Celsius.\".format(city, temp))\n",
    "\n",
    "except requests.ConnectionError:\n",
    "    print(\"Sorry, it seems, you don't have Internet.\")"
   ]
  },
  {
   "cell_type": "code",
   "execution_count": null,
   "metadata": {},
   "outputs": [],
   "source": []
  }
 ],
 "metadata": {
  "kernelspec": {
   "display_name": "Python 3",
   "language": "python",
   "name": "python3"
  },
  "language_info": {
   "codemirror_mode": {
    "name": "ipython",
    "version": 3
   },
   "file_extension": ".py",
   "mimetype": "text/x-python",
   "name": "python",
   "nbconvert_exporter": "python",
   "pygments_lexer": "ipython3",
   "version": "3.7.3"
  }
 },
 "nbformat": 4,
 "nbformat_minor": 2
}
