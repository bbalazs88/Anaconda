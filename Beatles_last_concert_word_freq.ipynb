{
 "cells": [
  {
   "cell_type": "code",
   "execution_count": null,
   "metadata": {},
   "outputs": [],
   "source": [
    "import requests\n",
    "from bs4 import BeautifulSoup\n",
    "import nltk\n",
    "import numpy as np\n",
    "import matplotlib.pyplot as plt"
   ]
  },
  {
   "cell_type": "code",
   "execution_count": null,
   "metadata": {},
   "outputs": [],
   "source": [
    "r = requests.get('https://www.rollingstone.com/music/music-features/beatles-last-concert-rooftop-ken-mansfield-interview-783884/')\n",
    "html = r.text\n",
    "\n",
    "html[:1000]"
   ]
  },
  {
   "cell_type": "code",
   "execution_count": null,
   "metadata": {},
   "outputs": [],
   "source": [
    "# Trükkös, mert ezer tag van az oldalon, de a html-t megvizsgálva láttam, hogy csak a tényleges szöveg <p>-ban nincsen class\n",
    "# megnevezve. Találtam egy for loopot, ami egyszerűen egy üres stringgel helyettesíti a <p> tageket.\n",
    "# Ezután egy üres stringhez hozzáaddtam a sorokat, de így a tagolás elveszett.\n",
    "\n",
    "soup = BeautifulSoup(html)\n",
    "soup.prettify()\n",
    "\n",
    "# page = soup.find_all('p', attrs={'class': None})\n",
    "# page =  soup.find_all('p', attrs={'class': None})\n",
    "page = ''\n",
    "\n",
    "for node in soup.find_all('p', attrs={'class': None}): \n",
    "    page = page + (''.join(node.findAll(text=True)))\n",
    "\n",
    "page[:100]"
   ]
  },
  {
   "cell_type": "code",
   "execution_count": null,
   "metadata": {},
   "outputs": [],
   "source": [
    "tokenizer = nltk.tokenize.RegexpTokenizer('\\w+')\n",
    "tokens = tokenizer.tokenize(page)\n",
    "\n",
    "print(tokens[:100])"
   ]
  },
  {
   "cell_type": "code",
   "execution_count": null,
   "metadata": {},
   "outputs": [],
   "source": [
    "words = []\n",
    "\n",
    "for word in tokens:\n",
    "    words.append(word.lower())\n",
    "\n",
    "print(words[:10])"
   ]
  },
  {
   "cell_type": "code",
   "execution_count": null,
   "metadata": {},
   "outputs": [],
   "source": [
    "nltk.download('stopwords')\n",
    "sw = nltk.corpus.stopwords.words('english')\n",
    "\n",
    "print(sw[:8])"
   ]
  },
  {
   "cell_type": "code",
   "execution_count": null,
   "metadata": {},
   "outputs": [],
   "source": [
    "words_ns = []\n",
    "\n",
    "for word in words:\n",
    "    if word not in sw:\n",
    "        words_ns.append(word)\n",
    "        \n",
    "words_ns[:10]"
   ]
  },
  {
   "cell_type": "code",
   "execution_count": null,
   "metadata": {},
   "outputs": [],
   "source": [
    "freqdist = nltk.FreqDist(words_ns)\n",
    "freqdist.plot(10)"
   ]
  }
 ],
 "metadata": {
  "kernelspec": {
   "display_name": "Python 3",
   "language": "python",
   "name": "python3"
  },
  "language_info": {
   "codemirror_mode": {
    "name": "ipython",
    "version": 3
   },
   "file_extension": ".py",
   "mimetype": "text/x-python",
   "name": "python",
   "nbconvert_exporter": "python",
   "pygments_lexer": "ipython3",
   "version": "3.7.1"
  }
 },
 "nbformat": 4,
 "nbformat_minor": 2
}
